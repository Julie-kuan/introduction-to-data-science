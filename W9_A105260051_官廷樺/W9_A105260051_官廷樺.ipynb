{
  "nbformat": 4,
  "nbformat_minor": 0,
  "metadata": {
    "colab": {
      "name": "W9-A105260051-官廷樺.ipynb",
      "provenance": []
    },
    "kernelspec": {
      "name": "python3",
      "display_name": "Python 3"
    }
  },
  "cells": [
    {
      "cell_type": "markdown",
      "metadata": {
        "id": "g_VIM9ZqBEtx",
        "colab_type": "text"
      },
      "source": [
        "隨堂練習：\n",
        "印出介於 x 到 y 之間的奇數\n",
        "（包含 x 與 y 假如它們是奇數）"
      ]
    },
    {
      "cell_type": "code",
      "metadata": {
        "id": "PZg8XVzqBYHI",
        "colab_type": "code",
        "colab": {
          "base_uri": "https://localhost:8080/",
          "height": 102
        },
        "outputId": "f9546258-5b59-4cae-af64-49ea4696a5c4"
      },
      "source": [
        "x = int(input(\"請輸入起始的整數:\"))\n",
        "y = int(input(\"請輸入終止的整數:\"))\n",
        "i = x # start\n",
        "while i <= y: # stop\n",
        "    # task\n",
        "    if i % 2 == 1:\n",
        "        print(i)\n",
        "    i += 1 # step"
      ],
      "execution_count": 2,
      "outputs": [
        {
          "output_type": "stream",
          "text": [
            "請輸入起始的整數:5\n",
            "請輸入終止的整數:10\n",
            "5\n",
            "7\n",
            "9\n"
          ],
          "name": "stdout"
        }
      ]
    },
    {
      "cell_type": "markdown",
      "metadata": {
        "id": "DPr5i2rfEaNT",
        "colab_type": "text"
      },
      "source": [
        "隨堂練習：承接上題，介於 x 到 y 之間的奇數有幾個\n",
        "\n",
        "（包含 x 與 y 假如它們是奇數）"
      ]
    },
    {
      "cell_type": "code",
      "metadata": {
        "id": "Fg6aTcJ2Ehfh",
        "colab_type": "code",
        "colab": {
          "base_uri": "https://localhost:8080/",
          "height": 85
        },
        "outputId": "3750903e-c6d0-451b-ae8c-e9cc4303854c"
      },
      "source": [
        "x = int(input(\"請輸入起始的整數:\"))\n",
        "y = int(input(\"請輸入終止的整數:\"))\n",
        "odd_counter = 0 # 歸零\n",
        "i = x # start\n",
        "while i <= y: # stop\n",
        "    # task\n",
        "    if i % 2 == 1:\n",
        "        #odd_counter = odd_counter + 1 # = NOT ==\n",
        "        odd_counter += 1 #計數累計\n",
        "    #print(odd_counter)\n",
        "    i += 1 # step\n",
        "print(\"=====\")\n",
        "print(odd_counter)"
      ],
      "execution_count": 7,
      "outputs": [
        {
          "output_type": "stream",
          "text": [
            "請輸入起始的整數:5\n",
            "請輸入終止的整數:10\n",
            "=====\n",
            "3\n"
          ],
          "name": "stdout"
        }
      ]
    },
    {
      "cell_type": "markdown",
      "metadata": {
        "id": "SkN2LMXUHZBC",
        "colab_type": "text"
      },
      "source": [
        "隨堂練習：承接上題，介於 x 到 y 之間的奇數加總為何\n",
        "\n",
        "（包含 x 與 y 假如它們是奇數）"
      ]
    },
    {
      "cell_type": "code",
      "metadata": {
        "id": "IneLFnYWHCZe",
        "colab_type": "code",
        "colab": {
          "base_uri": "https://localhost:8080/",
          "height": 170
        },
        "outputId": "c33c5b65-4a6f-45c4-dde8-178394e90a03"
      },
      "source": [
        "x = int(input(\"請輸入起始的整數:\"))\n",
        "y = int(input(\"請輸入終止的整數:\"))\n",
        "odd_summation = 0 # 歸零\n",
        "i = x # start\n",
        "while i <= y: # stop\n",
        "    # task\n",
        "    if i % 2 == 1:\n",
        "        odd_summation = odd_summation + i # 數值累計\n",
        "    i += 1 # stop\n",
        "    print(\"=====\")\n",
        "print(odd_summation)"
      ],
      "execution_count": 9,
      "outputs": [
        {
          "output_type": "stream",
          "text": [
            "請輸入起始的整數:5\n",
            "請輸入終止的整數:10\n",
            "=====\n",
            "=====\n",
            "=====\n",
            "=====\n",
            "=====\n",
            "=====\n",
            "21\n"
          ],
          "name": "stdout"
        }
      ]
    },
    {
      "cell_type": "code",
      "metadata": {
        "id": "ddU-iCh0H8Qk",
        "colab_type": "code",
        "colab": {
          "base_uri": "https://localhost:8080/",
          "height": 136
        },
        "outputId": "93740577-e245-440f-bb51-3fbac3db2be0"
      },
      "source": [
        "x = int(input(\"請輸入一個正整數\"))\n",
        "i = 1 #start\n",
        "divisor_counter = 0 #歸零\n",
        "while i <= x:  # stop\n",
        "    if x % i == 0:\n",
        "        divisor_counter += 1  \n",
        "        print(\"{} 可以被{}整除\".format(x, i))\n",
        "        print(\"因數個數目前有{}個\".format(divisor_counter))\n",
        "        print(\"=====\")\n",
        "    i += 1 # step"
      ],
      "execution_count": 16,
      "outputs": [
        {
          "output_type": "stream",
          "text": [
            "請輸入一個正整數7\n",
            "7 可以被1整除\n",
            "因數個數目前有1個\n",
            "=====\n",
            "7 可以被7整除\n",
            "因數個數目前有2個\n",
            "=====\n"
          ],
          "name": "stdout"
        }
      ]
    },
    {
      "cell_type": "markdown",
      "metadata": {
        "id": "IB8kCZ4yVmFW",
        "colab_type": "text"
      },
      "source": [
        "判斷質數\n",
        "\n",
        "在⼤於 1 的正整數中，除了 1 和該數⾃⾝外，無法被其他正整數整除的數字。"
      ]
    },
    {
      "cell_type": "code",
      "metadata": {
        "id": "RZ4VvyE5KoOy",
        "colab_type": "code",
        "colab": {
          "base_uri": "https://localhost:8080/",
          "height": 187
        },
        "outputId": "18df3f39-ef94-47f1-c807-de893aedc491"
      },
      "source": [
        "x = int(input(\"請輸入一個正整數\"))\n",
        "i = 1 #start\n",
        "divisor_counter = 0 #歸零\n",
        "while i <= x:  # stop\n",
        "    if x % i == 0:\n",
        "        divisor_counter += 1  \n",
        "        print(\"{} 可以被{}整除\".format(x, i))\n",
        "        print(\"因數個數目前有{}個\".format(divisor_counter))\n",
        "        print(\"=====\")\n",
        "    i += 1 # step\n",
        "print(\"### Answer ###\")\n",
        "print(\"{}有{}個因數!\".format(x, divisor_counter))\n",
        "if divisor_counter == 2:\n",
        "    print(\"{}是質數\".format(x))\n",
        "else:\n",
        "    print(\"{}不是質數.format(x)\")"
      ],
      "execution_count": 19,
      "outputs": [
        {
          "output_type": "stream",
          "text": [
            "請輸入一個正整數2\n",
            "2 可以被1整除\n",
            "因數個數目前有1個\n",
            "=====\n",
            "2 可以被2整除\n",
            "因數個數目前有2個\n",
            "=====\n",
            "### Answer ###\n",
            "2有2個因數!\n",
            "2是質數\n"
          ],
          "name": "stdout"
        }
      ]
    },
    {
      "cell_type": "markdown",
      "metadata": {
        "id": "3J7c_hVIXIO1",
        "colab_type": "text"
      },
      "source": [
        "作業：Fizz-Buzz with while\n",
        "\n",
        "從 1 印到 100\n",
        "\n",
        "如果是 3 的倍數印出 \"Fizz\"\n",
        "\n",
        "如果是 5 的倍數印出 \"Buzz\"\n",
        "\n",
        "如果是 15 的倍數印出 \"Fizz Buzz\"\n",
        "\n",
        "其他情況印出該正整數即可"
      ]
    },
    {
      "cell_type": "code",
      "metadata": {
        "id": "lNxSW8x2XHv2",
        "colab_type": "code",
        "colab": {
          "base_uri": "https://localhost:8080/",
          "height": 1000
        },
        "outputId": "f8c045cd-149c-4314-cb2b-ce69796ec023"
      },
      "source": [
        "i = 1\n",
        "while i <= 100:\n",
        "    if i % 15 == 0:\n",
        "        print(\"Fizz Buzz\")\n",
        "    elif i % 3 == 0:\n",
        "        print(\"Fizz\")\n",
        "    elif i % 5 == 0:\n",
        "        print(\"Buzz\")\n",
        "    else:\n",
        "        print(i)\n",
        "    i += 1 "
      ],
      "execution_count": 24,
      "outputs": [
        {
          "output_type": "stream",
          "text": [
            "1\n",
            "2\n",
            "Fizz\n",
            "4\n",
            "Buzz\n",
            "Fizz\n",
            "7\n",
            "8\n",
            "Fizz\n",
            "Buzz\n",
            "11\n",
            "Fizz\n",
            "13\n",
            "14\n",
            "Fizz Buzz\n",
            "16\n",
            "17\n",
            "Fizz\n",
            "19\n",
            "Buzz\n",
            "Fizz\n",
            "22\n",
            "23\n",
            "Fizz\n",
            "Buzz\n",
            "26\n",
            "Fizz\n",
            "28\n",
            "29\n",
            "Fizz Buzz\n",
            "31\n",
            "32\n",
            "Fizz\n",
            "34\n",
            "Buzz\n",
            "Fizz\n",
            "37\n",
            "38\n",
            "Fizz\n",
            "Buzz\n",
            "41\n",
            "Fizz\n",
            "43\n",
            "44\n",
            "Fizz Buzz\n",
            "46\n",
            "47\n",
            "Fizz\n",
            "49\n",
            "Buzz\n",
            "Fizz\n",
            "52\n",
            "53\n",
            "Fizz\n",
            "Buzz\n",
            "56\n",
            "Fizz\n",
            "58\n",
            "59\n",
            "Fizz Buzz\n",
            "61\n",
            "62\n",
            "Fizz\n",
            "64\n",
            "Buzz\n",
            "Fizz\n",
            "67\n",
            "68\n",
            "Fizz\n",
            "Buzz\n",
            "71\n",
            "Fizz\n",
            "73\n",
            "74\n",
            "Fizz Buzz\n",
            "76\n",
            "77\n",
            "Fizz\n",
            "79\n",
            "Buzz\n",
            "Fizz\n",
            "82\n",
            "83\n",
            "Fizz\n",
            "Buzz\n",
            "86\n",
            "Fizz\n",
            "88\n",
            "89\n",
            "Fizz Buzz\n",
            "91\n",
            "92\n",
            "Fizz\n",
            "94\n",
            "Buzz\n",
            "Fizz\n",
            "97\n",
            "98\n",
            "Fizz\n",
            "Buzz\n"
          ],
          "name": "stdout"
        }
      ]
    }
  ]
}