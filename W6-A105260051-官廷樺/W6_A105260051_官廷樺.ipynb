{
  "nbformat": 4,
  "nbformat_minor": 0,
  "metadata": {
    "colab": {
      "name": "W6-A105260051-官廷樺.ipynb",
      "provenance": []
    },
    "kernelspec": {
      "name": "python3",
      "display_name": "Python 3"
    }
  },
  "cells": [
    {
      "cell_type": "markdown",
      "metadata": {
        "id": "hcJxydkoI7Zf",
        "colab_type": "text"
      },
      "source": [
        "隨堂練習 : 判斷身分證字號的尾數是否為奇數"
      ]
    },
    {
      "cell_type": "code",
      "metadata": {
        "id": "vIeTZgjjI9DR",
        "colab_type": "code",
        "colab": {
          "base_uri": "https://localhost:8080/",
          "height": 87
        },
        "outputId": "020539a4-f218-4e69-d062-e171a109da6c"
      },
      "source": [
        "id_last_digit = input(\"請輸入您的身分證字號的尾數 : \")\n",
        "id_last_digit = int(id_last_digit)\n",
        "print(id_last_digit)\n",
        "print(type(id_last_digit))\n",
        "modulo = id_last_digit % 2\n",
        "ans =modulo == 1\n",
        "print(ans)"
      ],
      "execution_count": 1,
      "outputs": [
        {
          "output_type": "stream",
          "text": [
            "請輸入您的身分證字號的尾數 : 5\n",
            "5\n",
            "<class 'int'>\n",
            "True\n"
          ],
          "name": "stdout"
        }
      ]
    },
    {
      "cell_type": "code",
      "metadata": {
        "id": "RhvR_QloJAMg",
        "colab_type": "code",
        "colab": {}
      },
      "source": [
        ""
      ],
      "execution_count": 0,
      "outputs": []
    }
  ]
}