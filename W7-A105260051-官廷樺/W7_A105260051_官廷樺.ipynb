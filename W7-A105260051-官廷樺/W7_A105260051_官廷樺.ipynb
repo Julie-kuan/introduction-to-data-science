{
  "nbformat": 4,
  "nbformat_minor": 0,
  "metadata": {
    "colab": {
      "name": "W7_A105260051_官廷樺.ipynb",
      "provenance": []
    },
    "kernelspec": {
      "name": "python3",
      "display_name": "Python 3"
    }
  },
  "cells": [
    {
      "cell_type": "markdown",
      "metadata": {
        "id": "vj6Ct6v5_opB",
        "colab_type": "text"
      },
      "source": [
        "隨堂練習： 月薪超過 4 萬或存款超過 50 萬就發信用卡"
      ]
    },
    {
      "cell_type": "code",
      "metadata": {
        "id": "bCJ4TTsk7Lu5",
        "colab_type": "code",
        "outputId": "39d49fd5-5a2d-4502-963f-b3a8026f827d",
        "colab": {
          "base_uri": "https://localhost:8080/",
          "height": 102
        }
      },
      "source": [
        "monthly_income = input(\"請輸入月薪\")\n",
        "saving_account = input(\"請輸入存款\")\n",
        "monthly_income = int(monthly_income)\n",
        "saving_account = int(saving_account)\n",
        "print(type(monthly_income))\n",
        "print(type(saving_account))\n",
        "ans = \"\"\n",
        "# 條件判斷()begin\n",
        "if monthly_income > 40000 or saving_account > 500000:\n",
        "    ans = \"發信用卡\"\n",
        "# 條件判斷(end)\n",
        "print(ans)"
      ],
      "execution_count": 0,
      "outputs": [
        {
          "output_type": "stream",
          "text": [
            "請輸入月薪40001\n",
            "請輸入存款499999\n",
            "<class 'int'>\n",
            "<class 'int'>\n",
            "發信用卡\n"
          ],
          "name": "stdout"
        }
      ]
    },
    {
      "cell_type": "markdown",
      "metadata": {
        "id": "5iIkfG0_Ddg-",
        "colab_type": "text"
      },
      "source": [
        "隨堂練習： 判斷奇數偶數\n",
        "\n",
        "請輸入一個正整數：5566\n",
        "\n",
        "5566 是偶數\n",
        "\n",
        "請輸入一個正整數：87\n",
        "\n",
        "87 是奇數"
      ]
    },
    {
      "cell_type": "code",
      "metadata": {
        "id": "wMq-USL2DemG",
        "colab_type": "code",
        "outputId": "b1aa2c52-31c3-4342-fafd-1ecdafe39428",
        "colab": {
          "base_uri": "https://localhost:8080/",
          "height": 51
        }
      },
      "source": [
        "user_int = input(\"請輸入一個正整數\")\n",
        "user_int = int(user_int)\n",
        "if user_int % 2 == 0:\n",
        "    ans = \"偶數\"\n",
        "else:\n",
        "    ans = \"奇數\"\n",
        "print(ans)"
      ],
      "execution_count": 0,
      "outputs": [
        {
          "output_type": "stream",
          "text": [
            "請輸入一個正整數5566\n",
            "偶數\n"
          ],
          "name": "stdout"
        }
      ]
    },
    {
      "cell_type": "markdown",
      "metadata": {
        "id": "k6GvW0KNILBW",
        "colab_type": "text"
      },
      "source": [
        "隨堂練習： 依身分證字號尾數決定星期幾可以購買口罩\n",
        "\n",
        "奇數：星期一三五日領\n",
        "\n",
        "偶數：星期二四六日領"
      ]
    },
    {
      "cell_type": "code",
      "metadata": {
        "id": "YUZZgIsjIOZk",
        "colab_type": "code",
        "outputId": "29f9ac15-5024-4fb0-b4db-3ed88b5e40c2",
        "colab": {
          "base_uri": "https://localhost:8080/",
          "height": 51
        }
      },
      "source": [
        "id_last_digit = input(\"請輸入您身分證字號的尾數\")\n",
        "id_last_digit = int(id_last_dight)\n",
        "if id_last_digit % 2 == 0:\n",
        "    ans = \"星期二四六領\"\n",
        "else:\n",
        "    ans = \"星期一三五日領\"\n",
        "print(ans)"
      ],
      "execution_count": 0,
      "outputs": [
        {
          "output_type": "stream",
          "text": [
            "請輸入您身分證字號的尾數1\n",
            "星期一三五日領\n"
          ],
          "name": "stdout"
        }
      ]
    },
    {
      "cell_type": "markdown",
      "metadata": {
        "id": "b5pmN4HnPpQx",
        "colab_type": "text"
      },
      "source": [
        "隨堂練習： 判斷 BMI 的類別標籤\n",
        "\n",
        "請輸入身高（公分）：200\n",
        "\n",
        "請輸入體重（公斤）：80\n",
        "\n",
        "身高 200.0 公分、體重 80.0 公斤，是 Normal weight\n",
        "\n",
        "請輸入身高（公分）：170\n",
        "\n",
        "請輸入體重（公斤）：100\n",
        "\n",
        "身高 170.0 公分、體重 100.0 公斤，是 Obese"
      ]
    },
    {
      "cell_type": "code",
      "metadata": {
        "id": "34NNlmP2L9EW",
        "colab_type": "code",
        "outputId": "9a92e637-8074-494c-fb90-aeff013106db",
        "colab": {
          "base_uri": "https://localhost:8080/",
          "height": 68
        }
      },
      "source": [
        "input_height = float(input(\"請輸入身高（公分）：\"))\n",
        "input_weight = float(input(\"請輸入體重（公斤）：\"))\n",
        "bmi = input_weight / (input_height*0.01)**2\n",
        "if bmi > 30:\n",
        "    label = \"Obese\"\n",
        "elif bmi > 25:\n",
        "    label = \"Overweight\"\n",
        "elif bmi > 18.5:\n",
        "    label = \"Normal weight\"\n",
        "else:\n",
        "    label = \"Underweight\"\n",
        "print(label)"
      ],
      "execution_count": 0,
      "outputs": [
        {
          "output_type": "stream",
          "text": [
            "請輸入身高（公分）：198\n",
            "請輸入體重（公斤）：129\n",
            "Obese\n"
          ],
          "name": "stdout"
        }
      ]
    },
    {
      "cell_type": "code",
      "metadata": {
        "id": "d3ro4ESES96B",
        "colab_type": "code",
        "outputId": "f219b2c8-3478-4397-8a91-f72d3f65c97b",
        "colab": {
          "base_uri": "https://localhost:8080/",
          "height": 68
        }
      },
      "source": [
        "input_height = float(input(\"請輸入身高（公分）：\"))\n",
        "input_weight = float(input(\"請輸入體重（公斤）：\"))\n",
        "bmi = input_weight / (input_height*0.01)**2\n",
        "if bmi > 30:\n",
        "    label = \"Obese\"\n",
        "if bmi > 25:\n",
        "    label = \"Overweight\"\n",
        "if bmi > 18.5:\n",
        "    label = \"Normal weight\"\n",
        "if bmi <= 18.5:\n",
        "    label = \"Underweight\"\n",
        "print(label)"
      ],
      "execution_count": 0,
      "outputs": [
        {
          "output_type": "stream",
          "text": [
            "請輸入身高（公分）：198\n",
            "請輸入體重（公斤）：129\n",
            "Normal weight\n"
          ],
          "name": "stdout"
        }
      ]
    }
  ]
}