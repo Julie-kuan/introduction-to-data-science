{
  "nbformat": 4,
  "nbformat_minor": 0,
  "metadata": {
    "colab": {
      "name": "W13-A105260051-官廷樺.ipynb",
      "provenance": []
    },
    "kernelspec": {
      "name": "python3",
      "display_name": "Python 3"
    }
  },
  "cells": [
    {
      "cell_type": "markdown",
      "metadata": {
        "id": "32RFUVPaFTnn",
        "colab_type": "text"
      },
      "source": [
        "#從 1 到 1000 的整數中隨機抽樣，記錄第幾次可以抽到 56的倍數（難）"
      ]
    },
    {
      "cell_type": "code",
      "metadata": {
        "id": "XNF4_XoxGsAl",
        "colab_type": "code",
        "colab": {
          "base_uri": "https://localhost:8080/",
          "height": 51
        },
        "outputId": "f6c6ddef-5803-4517-a58f-8daa700c435d"
      },
      "source": [
        "from random import sample\n",
        "\n",
        "n_samples = 0\n",
        "while True:\n",
        "    random_integer = sample(range(1, 1001), 1)[0]\n",
        "    n_samples += 1\n",
        "    if random_integer % 56 == 0:\n",
        "        break\n",
        "print(random_integer)\n",
        "print(n_samples)"
      ],
      "execution_count": 7,
      "outputs": [
        {
          "output_type": "stream",
          "text": [
            "952\n",
            "7\n"
          ],
          "name": "stdout"
        }
      ]
    },
    {
      "cell_type": "code",
      "metadata": {
        "id": "L_ZiTscuGs74",
        "colab_type": "code",
        "colab": {
          "base_uri": "https://localhost:8080/",
          "height": 71
        },
        "outputId": "1f5bac83-78fc-47af-f42e-b2dd02cd6301"
      },
      "source": [
        "sample_history = []\n",
        "while True:\n",
        "    random_integer = sample(range(1, 1001), 1)[0]\n",
        "    sample_history.append(random_integer)\n",
        "    if random_integer % 56 == 0:\n",
        "        break\n",
        "print(sample_history)\n",
        "print(len(sample_history))"
      ],
      "execution_count": 8,
      "outputs": [
        {
          "output_type": "stream",
          "text": [
            "[804, 412, 57, 732, 386, 425, 323, 980, 223, 166, 391, 513, 633, 418, 684, 456, 572, 695, 690, 605, 763, 724, 901, 848, 992, 376, 511, 532, 114, 511, 654, 602, 862, 732, 421, 288, 779, 770, 39, 835, 432, 871, 342, 821, 401, 110, 151, 825, 255, 680, 801, 298, 413, 779, 273, 279, 967, 395, 665, 104, 115, 762, 581, 769, 869, 710, 439, 133, 158, 443, 677, 557, 599, 629, 635, 178, 179, 572, 952]\n",
            "79\n"
          ],
          "name": "stdout"
        }
      ]
    },
    {
      "cell_type": "markdown",
      "metadata": {
        "id": "gw7dHb2XJILs",
        "colab_type": "text"
      },
      "source": [
        "#計算字串英文字⺟的⺟⾳（a, e, i, o, u）個數"
      ]
    },
    {
      "cell_type": "code",
      "metadata": {
        "id": "cHjs11LIJQA7",
        "colab_type": "code",
        "colab": {
          "base_uri": "https://localhost:8080/",
          "height": 34
        },
        "outputId": "26d4cc57-a4d6-4be2-a954-dd9dea52aa59"
      },
      "source": [
        "n_vowels = 0 \n",
        "for i in 'azcbobobegghak':\n",
        "    if i in ['a', 'e', 'i', 'o', 'u']:\n",
        "        #print(i)\n",
        "        n_vowels += 1\n",
        "print(n_vowels)"
      ],
      "execution_count": 10,
      "outputs": [
        {
          "output_type": "stream",
          "text": [
            "5\n"
          ],
          "name": "stdout"
        }
      ]
    },
    {
      "cell_type": "markdown",
      "metadata": {
        "id": "w5auEFTfOPHc",
        "colab_type": "text"
      },
      "source": [
        "#計算字串裡⾯ 'bob' 出現的次數"
      ]
    },
    {
      "cell_type": "code",
      "metadata": {
        "id": "wZK7LA_iORns",
        "colab_type": "code",
        "colab": {
          "base_uri": "https://localhost:8080/",
          "height": 34
        },
        "outputId": "d06d5c13-ee1e-48c7-a3e8-c96bc4dd1766"
      },
      "source": [
        "test_str = 'azcbobobegghak'\n",
        "n_char = len(test_str)\n",
        "n_bobs = 0\n",
        "for i in range(n_char - 2):\n",
        "    #print(test_str[i:i+3])\n",
        "    if test_str[i:i+3] == 'bob':\n",
        "        n_bobs += 1\n",
        "print(n_bobs)"
      ],
      "execution_count": 12,
      "outputs": [
        {
          "output_type": "stream",
          "text": [
            "2\n"
          ],
          "name": "stdout"
        }
      ]
    },
    {
      "cell_type": "markdown",
      "metadata": {
        "id": "5hFfTLnwQFjW",
        "colab_type": "text"
      },
      "source": [
        "#計算 range(1, 101) 的樣本標準差\n",
        "\n",
        "(https://zh.wikipedia.org/wiki/%E6%A8%99%E6%BA%96%E5%B7\n",
        "%AE)\n"
      ]
    },
    {
      "cell_type": "code",
      "metadata": {
        "id": "fEf4qpxOVGO9",
        "colab_type": "code",
        "colab": {
          "base_uri": "https://localhost:8080/",
          "height": 34
        },
        "outputId": "aaf00d96-f1a5-48c4-a563-7d5c3cc36bf9"
      },
      "source": [
        "x = list(range(1, 101))\n",
        "N = len(x)\n",
        "x_bar = sum(x) / N\n",
        "sse = 0\n",
        "for xi in x:\n",
        "    #error = xi - x_bar\n",
        "    squared_error = (xi - x_bar)**2\n",
        "    sse += squared_error #sse = sse + squared_error\n",
        "sample_mse = sse / (N-1)\n",
        "sample_stdev = sample_mse**(0.5)\n",
        "print(sample_stdev)"
      ],
      "execution_count": 18,
      "outputs": [
        {
          "output_type": "stream",
          "text": [
            "29.011491975882016\n"
          ],
          "name": "stdout"
        }
      ]
    },
    {
      "cell_type": "code",
      "metadata": {
        "id": "S2TiWia9VGzr",
        "colab_type": "code",
        "colab": {
          "base_uri": "https://localhost:8080/",
          "height": 34
        },
        "outputId": "3a89a697-85aa-45e9-fc41-8ea23ff24246"
      },
      "source": [
        "from statistics import stdev\n",
        "\n",
        "stdev(range(1, 101)) # [1, 2, 3, ..., 100]"
      ],
      "execution_count": 19,
      "outputs": [
        {
          "output_type": "execute_result",
          "data": {
            "text/plain": [
              "29.011491975882016"
            ]
          },
          "metadata": {
            "tags": []
          },
          "execution_count": 19
        }
      ]
    },
    {
      "cell_type": "markdown",
      "metadata": {
        "id": "1fJgXofKf0G1",
        "colab_type": "text"
      },
      "source": [
        "#寫作⼀個函數 get_fahrenheit () 將攝⽒氣溫轉換為華⽒氣溫\n"
      ]
    },
    {
      "cell_type": "code",
      "metadata": {
        "id": "TO0BQIN7f4AV",
        "colab_type": "code",
        "colab": {}
      },
      "source": [
        "def get_fahrenheit(x):\n",
        "    \"\"\"\n",
        "    Tranaform a Celsius degree innto Farenheit scale\n",
        "    \"\"\"\n",
        "    fah = x * 9/5 + 32\n",
        "    return fah"
      ],
      "execution_count": 0,
      "outputs": []
    },
    {
      "cell_type": "code",
      "metadata": {
        "id": "WpbHccWKhuUw",
        "colab_type": "code",
        "colab": {
          "base_uri": "https://localhost:8080/",
          "height": 34
        },
        "outputId": "62a2d8b3-56ad-4090-b484-6b0120894158"
      },
      "source": [
        "get_fahrenheit(32)"
      ],
      "execution_count": 26,
      "outputs": [
        {
          "output_type": "execute_result",
          "data": {
            "text/plain": [
              "89.6"
            ]
          },
          "metadata": {
            "tags": []
          },
          "execution_count": 26
        }
      ]
    },
    {
      "cell_type": "markdown",
      "metadata": {
        "id": "capmrX-of4U9",
        "colab_type": "text"
      },
      "source": [
        "#寫作⼀個函數 get_bmi () 計算 BMI ⾝體質量指數"
      ]
    },
    {
      "cell_type": "code",
      "metadata": {
        "id": "SGcii_vAf7JV",
        "colab_type": "code",
        "colab": {}
      },
      "source": [
        "def get_bmi(height, weight):\n",
        "    \"\"\"\n",
        "    Calculate BMI based on height and weight\n",
        "    \"\"\"\n",
        "    height = height / 100\n",
        "    bmi = weight / height**2\n",
        "    return bmi"
      ],
      "execution_count": 0,
      "outputs": []
    },
    {
      "cell_type": "code",
      "metadata": {
        "id": "TIUQQuVgiRi-",
        "colab_type": "code",
        "colab": {
          "base_uri": "https://localhost:8080/",
          "height": 34
        },
        "outputId": "11f34926-ca84-4f30-cf7c-eda9f879b8e2"
      },
      "source": [
        "get_bmi(198, 129)"
      ],
      "execution_count": 28,
      "outputs": [
        {
          "output_type": "execute_result",
          "data": {
            "text/plain": [
              "32.90480563207836"
            ]
          },
          "metadata": {
            "tags": []
          },
          "execution_count": 28
        }
      ]
    },
    {
      "cell_type": "code",
      "metadata": {
        "id": "gA_ANenJihNu",
        "colab_type": "code",
        "colab": {
          "base_uri": "https://localhost:8080/",
          "height": 34
        },
        "outputId": "7d27c6b7-1ada-46ab-f368-9ea23050b24a"
      },
      "source": [
        "get_bmi(216, 147)"
      ],
      "execution_count": 29,
      "outputs": [
        {
          "output_type": "execute_result",
          "data": {
            "text/plain": [
              "31.507201646090532"
            ]
          },
          "metadata": {
            "tags": []
          },
          "execution_count": 29
        }
      ]
    },
    {
      "cell_type": "markdown",
      "metadata": {
        "id": "mJ6M4K0Xf7Rl",
        "colab_type": "text"
      },
      "source": [
        "#寫作⼀個函數 is_prime () 判斷輸入是否為質數"
      ]
    },
    {
      "cell_type": "code",
      "metadata": {
        "id": "rzwe8RrEf9_2",
        "colab_type": "code",
        "colab": {}
      },
      "source": [
        "def is_prime(x):\n",
        "    \"\"\"\n",
        "    Returns True is x is a prime, or returns False\n",
        "    \"\"\"\n",
        "    divisors = []\n",
        "    for i in range(1, x+1):\n",
        "        if x % i == 0:\n",
        "            divisors.append(i)\n",
        "        n_divisors = len(divisors)\n",
        "        if n_divisors == 2:\n",
        "            return True\n",
        "        else:\n",
        "            return False"
      ],
      "execution_count": 0,
      "outputs": []
    },
    {
      "cell_type": "code",
      "metadata": {
        "id": "KQaKsmM-l9xe",
        "colab_type": "code",
        "colab": {}
      },
      "source": [
        "def is_prime(x):\n",
        "    \"\"\"\n",
        "    Returns True if x is a prime, or returns False\n",
        "    \"\"\"\n",
        "    divisors = []\n",
        "    for i in range(1, x+1):\n",
        "        if x % i == 0:\n",
        "            divisors.append(i)\n",
        "    n_divisors = len(divisors)\n",
        "    return n_divisors == 2"
      ],
      "execution_count": 0,
      "outputs": []
    },
    {
      "cell_type": "code",
      "metadata": {
        "id": "jPVORIz4lmUQ",
        "colab_type": "code",
        "colab": {
          "base_uri": "https://localhost:8080/",
          "height": 34
        },
        "outputId": "648c96e7-a328-4262-e3e5-990a8019febf"
      },
      "source": [
        "is_prime(1)"
      ],
      "execution_count": 31,
      "outputs": [
        {
          "output_type": "execute_result",
          "data": {
            "text/plain": [
              "False"
            ]
          },
          "metadata": {
            "tags": []
          },
          "execution_count": 31
        }
      ]
    },
    {
      "cell_type": "code",
      "metadata": {
        "id": "D0M16jgylohx",
        "colab_type": "code",
        "colab": {
          "base_uri": "https://localhost:8080/",
          "height": 34
        },
        "outputId": "68241ac3-1adb-4dee-d35f-f51393195bd5"
      },
      "source": [
        "is_prime(2)"
      ],
      "execution_count": 32,
      "outputs": [
        {
          "output_type": "execute_result",
          "data": {
            "text/plain": [
              "False"
            ]
          },
          "metadata": {
            "tags": []
          },
          "execution_count": 32
        }
      ]
    },
    {
      "cell_type": "code",
      "metadata": {
        "id": "fpk6RPjMlqX8",
        "colab_type": "code",
        "colab": {
          "base_uri": "https://localhost:8080/",
          "height": 34
        },
        "outputId": "97712224-7140-4308-cf23-480685906e32"
      },
      "source": [
        "is_prime(8)"
      ],
      "execution_count": 33,
      "outputs": [
        {
          "output_type": "execute_result",
          "data": {
            "text/plain": [
              "False"
            ]
          },
          "metadata": {
            "tags": []
          },
          "execution_count": 33
        }
      ]
    },
    {
      "cell_type": "code",
      "metadata": {
        "id": "tEYeVIOKlsnU",
        "colab_type": "code",
        "colab": {}
      },
      "source": [
        ""
      ],
      "execution_count": 0,
      "outputs": []
    }
  ]
}