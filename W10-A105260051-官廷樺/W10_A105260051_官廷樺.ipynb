{
  "nbformat": 4,
  "nbformat_minor": 0,
  "metadata": {
    "colab": {
      "name": "W10-A105260051-官廷樺.ipynb",
      "provenance": []
    },
    "kernelspec": {
      "name": "python3",
      "display_name": "Python 3"
    }
  },
  "cells": [
    {
      "cell_type": "markdown",
      "metadata": {
        "id": "MA72nNdkEd8Q",
        "colab_type": "text"
      },
      "source": [
        "參考 cast 與\n",
        "\n",
        "https://www.imdb.com/title/tt4154796(https://www.imdb.com/title/tt4154796) \n",
        "\n",
        "將飾演奇異博⼠（Doctor Strange）的演員⽤ indexing ⽅式選出來"
      ]
    },
    {
      "cell_type": "code",
      "metadata": {
        "id": "lbdFLNClE77t",
        "colab_type": "code",
        "colab": {
          "base_uri": "https://localhost:8080/",
          "height": 34
        },
        "outputId": "9113b650-ae4a-4005-e580-e197266c0b8d"
      },
      "source": [
        "cast = ['Robert Downey Jr.', 'Chris Evans', 'Mark Ruffalo', 'Chris Hemsworth', 'Scarlett Johansson', 'Jeremy Renner', 'Don Cheadle', 'Paul Rudd', 'Benedict Cumberbatch', 'Chadwick Boseman', 'Brie Larson', 'Tom Holland', 'Karen Gillan', 'Zoe Saldana', 'Evangeline Lilly']\n",
        "print(cast[8])"
      ],
      "execution_count": 1,
      "outputs": [
        {
          "output_type": "stream",
          "text": [
            "Benedict Cumberbatch\n"
          ],
          "name": "stdout"
        }
      ]
    },
    {
      "cell_type": "markdown",
      "metadata": {
        "id": "QTw0JlVxFLl7",
        "colab_type": "text"
      },
      "source": [
        "參考 cast 與\n",
        "\n",
        "https://www.imdb.com/title/tt4154796(https://www.imdb.com/title/tt4154796) \n",
        "\n",
        " 將第⼀集復仇者聯盟的六位英雄選出來\n"
      ]
    },
    {
      "cell_type": "code",
      "metadata": {
        "id": "1jjSOJtFF36r",
        "colab_type": "code",
        "colab": {
          "base_uri": "https://localhost:8080/",
          "height": 51
        },
        "outputId": "6ba5fe72-bde5-407b-ef8c-d3f0f7438ff4"
      },
      "source": [
        "print(len(cast))\n",
        "print(cast[:6])"
      ],
      "execution_count": 2,
      "outputs": [
        {
          "output_type": "stream",
          "text": [
            "15\n",
            "['Robert Downey Jr.', 'Chris Evans', 'Mark Ruffalo', 'Chris Hemsworth', 'Scarlett Johansson', 'Jeremy Renner']\n"
          ],
          "name": "stdout"
        }
      ]
    },
    {
      "cell_type": "code",
      "metadata": {
        "id": "BHJvodu6bLfM",
        "colab_type": "code",
        "colab": {
          "base_uri": "https://localhost:8080/",
          "height": 71
        },
        "outputId": "ca35acec-3f2b-48d8-d8f9-263e1b36e5cf"
      },
      "source": [
        "import pandas as pd\n",
        "\n",
        "time_series_df = pd.read_csv(\"https://raw.githubusercontent.com/CSSEGISandData/COVID-19/master/csse_covid_19_data/csse_covid_19_time_series/time_series_covid19_confirmed_global.csv\")\n",
        "cumulative_confirmed = list(time_series_df[time_series_df['Country/Region'] == 'Taiwan*'].values.ravel()[4:].astype(int))\n",
        "cumulative_confirmed_lag = list(time_series_df[time_series_df['Country/Region'] == 'Taiwan*'].values.ravel()[4:].astype(int))\n",
        "print(cumulative_confirmed)\n",
        "print(cumulative_confirmed_lag)"
      ],
      "execution_count": 23,
      "outputs": [
        {
          "output_type": "stream",
          "text": [
            "[1, 1, 3, 3, 4, 5, 8, 8, 9, 10, 10, 10, 10, 11, 11, 16, 16, 17, 18, 18, 18, 18, 18, 18, 18, 20, 22, 22, 23, 24, 26, 26, 28, 30, 31, 32, 32, 34, 39, 40, 41, 42, 42, 44, 45, 45, 45, 45, 47, 48, 49, 50, 53, 59, 67, 77, 100, 108, 135, 153, 169, 195, 215, 235, 252, 267, 283, 298, 306, 322, 329, 339, 348, 355, 363, 373, 376, 379, 380, 382, 385, 388, 393, 393, 395, 395, 395, 398, 420, 422, 425, 426, 427, 428, 429, 429, 429, 429, 429, 429, 429, 432, 436, 438, 438, 439, 440]\n",
            "[1, 1, 3, 3, 4, 5, 8, 8, 9, 10, 10, 10, 10, 11, 11, 16, 16, 17, 18, 18, 18, 18, 18, 18, 18, 20, 22, 22, 23, 24, 26, 26, 28, 30, 31, 32, 32, 34, 39, 40, 41, 42, 42, 44, 45, 45, 45, 45, 47, 48, 49, 50, 53, 59, 67, 77, 100, 108, 135, 153, 169, 195, 215, 235, 252, 267, 283, 298, 306, 322, 329, 339, 348, 355, 363, 373, 376, 379, 380, 382, 385, 388, 393, 393, 395, 395, 395, 398, 420, 422, 425, 426, 427, 428, 429, 429, 429, 429, 429, 429, 429, 432, 436, 438, 438, 439, 440]\n"
          ],
          "name": "stdout"
        }
      ]
    },
    {
      "cell_type": "code",
      "metadata": {
        "id": "mlRbT0_AbXrD",
        "colab_type": "code",
        "colab": {
          "base_uri": "https://localhost:8080/",
          "height": 51
        },
        "outputId": "9418060f-4ff7-408c-c754-d2a6bcf4f11c"
      },
      "source": [
        "print(len(cumulative_confirmed))\n",
        "print(cumulative_confirmed[-1])"
      ],
      "execution_count": 24,
      "outputs": [
        {
          "output_type": "stream",
          "text": [
            "107\n",
            "440\n"
          ],
          "name": "stdout"
        }
      ]
    },
    {
      "cell_type": "code",
      "metadata": {
        "id": "ALV8Yw-ubZkz",
        "colab_type": "code",
        "colab": {
          "base_uri": "https://localhost:8080/",
          "height": 51
        },
        "outputId": "bb976a44-0aed-440a-ab0b-2b6b98bdbdca"
      },
      "source": [
        "cumulative_confirmed_lag.insert(0, 0)\n",
        "print(len(cumulative_confirmed_lag))\n",
        "print(cumulative_confirmed_lag[0])"
      ],
      "execution_count": 25,
      "outputs": [
        {
          "output_type": "stream",
          "text": [
            "108\n",
            "0\n"
          ],
          "name": "stdout"
        }
      ]
    },
    {
      "cell_type": "code",
      "metadata": {
        "id": "C8b59oZNbbej",
        "colab_type": "code",
        "colab": {
          "base_uri": "https://localhost:8080/",
          "height": 51
        },
        "outputId": "2059fe78-f6ba-4d05-f12b-b404de8277aa"
      },
      "source": [
        "cumulative_confirmed_lag.pop()\n",
        "print(len(cumulative_confirmed_lag))\n",
        "print(cumulative_confirmed_lag[-1])"
      ],
      "execution_count": 26,
      "outputs": [
        {
          "output_type": "stream",
          "text": [
            "107\n",
            "439\n"
          ],
          "name": "stdout"
        }
      ]
    },
    {
      "cell_type": "code",
      "metadata": {
        "id": "em-9u5czbdkT",
        "colab_type": "code",
        "colab": {
          "base_uri": "https://localhost:8080/",
          "height": 71
        },
        "outputId": "90803b3d-5eeb-4b47-e3be-6c9c95922298"
      },
      "source": [
        "print(cumulative_confirmed)\n",
        "print(cumulative_confirmed_lag)"
      ],
      "execution_count": 27,
      "outputs": [
        {
          "output_type": "stream",
          "text": [
            "[1, 1, 3, 3, 4, 5, 8, 8, 9, 10, 10, 10, 10, 11, 11, 16, 16, 17, 18, 18, 18, 18, 18, 18, 18, 20, 22, 22, 23, 24, 26, 26, 28, 30, 31, 32, 32, 34, 39, 40, 41, 42, 42, 44, 45, 45, 45, 45, 47, 48, 49, 50, 53, 59, 67, 77, 100, 108, 135, 153, 169, 195, 215, 235, 252, 267, 283, 298, 306, 322, 329, 339, 348, 355, 363, 373, 376, 379, 380, 382, 385, 388, 393, 393, 395, 395, 395, 398, 420, 422, 425, 426, 427, 428, 429, 429, 429, 429, 429, 429, 429, 432, 436, 438, 438, 439, 440]\n",
            "[0, 1, 1, 3, 3, 4, 5, 8, 8, 9, 10, 10, 10, 10, 11, 11, 16, 16, 17, 18, 18, 18, 18, 18, 18, 18, 20, 22, 22, 23, 24, 26, 26, 28, 30, 31, 32, 32, 34, 39, 40, 41, 42, 42, 44, 45, 45, 45, 45, 47, 48, 49, 50, 53, 59, 67, 77, 100, 108, 135, 153, 169, 195, 215, 235, 252, 267, 283, 298, 306, 322, 329, 339, 348, 355, 363, 373, 376, 379, 380, 382, 385, 388, 393, 393, 395, 395, 395, 398, 420, 422, 425, 426, 427, 428, 429, 429, 429, 429, 429, 429, 429, 432, 436, 438, 438, 439]\n"
          ],
          "name": "stdout"
        }
      ]
    },
    {
      "cell_type": "code",
      "metadata": {
        "id": "AF5MqPdSbflL",
        "colab_type": "code",
        "colab": {}
      },
      "source": [
        "daily_increase = []"
      ],
      "execution_count": 0,
      "outputs": []
    },
    {
      "cell_type": "code",
      "metadata": {
        "id": "1mPYuu1-bhqj",
        "colab_type": "code",
        "colab": {
          "base_uri": "https://localhost:8080/",
          "height": 34
        },
        "outputId": "7f30ebb9-5d71-40f4-8042-a64e0c6da612"
      },
      "source": [
        "#daily_increase = ?\n",
        "day0_increase = cumulative_confirmed[0] - cumulative_confirmed_lag[0]\n",
        "print(day0_increase)\n",
        "daily_increase.append(day0_increase)"
      ],
      "execution_count": 33,
      "outputs": [
        {
          "output_type": "stream",
          "text": [
            "1\n"
          ],
          "name": "stdout"
        }
      ]
    },
    {
      "cell_type": "code",
      "metadata": {
        "id": "a63sbCnybj7i",
        "colab_type": "code",
        "colab": {
          "base_uri": "https://localhost:8080/",
          "height": 34
        },
        "outputId": "7a2df7ef-1b7e-4ea8-9821-faae210c2151"
      },
      "source": [
        "day1_increase = cumulative_confirmed[1] - cumulative_confirmed_lag[1]\n",
        "print(day1_increase)\n",
        "daily_increase.append(day1_increase)"
      ],
      "execution_count": 34,
      "outputs": [
        {
          "output_type": "stream",
          "text": [
            "0\n"
          ],
          "name": "stdout"
        }
      ]
    },
    {
      "cell_type": "code",
      "metadata": {
        "id": "vo75QJRsbrbC",
        "colab_type": "code",
        "colab": {
          "base_uri": "https://localhost:8080/",
          "height": 34
        },
        "outputId": "00957e1f-9835-4ceb-c0bd-7820df5cf064"
      },
      "source": [
        "day2_increase = cumulative_confirmed[2] - cumulative_confirmed_lag[2]\n",
        "print(day2_increase)\n",
        "daily_increase.append(day2_increase)"
      ],
      "execution_count": 35,
      "outputs": [
        {
          "output_type": "stream",
          "text": [
            "2\n"
          ],
          "name": "stdout"
        }
      ]
    },
    {
      "cell_type": "code",
      "metadata": {
        "id": "fHEALFeHb_Ti",
        "colab_type": "code",
        "colab": {
          "base_uri": "https://localhost:8080/",
          "height": 34
        },
        "outputId": "496ec6e4-7e66-4e8e-f6c9-da26523dae1d"
      },
      "source": [
        "daily_increase"
      ],
      "execution_count": 36,
      "outputs": [
        {
          "output_type": "execute_result",
          "data": {
            "text/plain": [
              "[1, 0, 2]"
            ]
          },
          "metadata": {
            "tags": []
          },
          "execution_count": 36
        }
      ]
    },
    {
      "cell_type": "code",
      "metadata": {
        "id": "yjBzYA4tcBeK",
        "colab_type": "code",
        "colab": {
          "base_uri": "https://localhost:8080/",
          "height": 34
        },
        "outputId": "c0505a08-975b-4138-9096-0f5f988bf1bc"
      },
      "source": [
        "day106_increase = cumulative_confirmed[106] - cumulative_confirmed_lag[106]\n",
        "print(day106_increase)"
      ],
      "execution_count": 37,
      "outputs": [
        {
          "output_type": "stream",
          "text": [
            "1\n"
          ],
          "name": "stdout"
        }
      ]
    },
    {
      "cell_type": "code",
      "metadata": {
        "id": "0ZBMHLnkcDpS",
        "colab_type": "code",
        "colab": {
          "base_uri": "https://localhost:8080/",
          "height": 1000
        },
        "outputId": "b50e8c3e-bbcb-49b6-e249-fe0db566a562"
      },
      "source": [
        "daily_increase = []\n",
        "i = 0\n",
        "while i < 107:\n",
        "    dayn_increase = cumulative_confirmed[i] - cumulative_confirmed_lag[i]\n",
        "    print(\"Day {}: 每日新增確診人數 {}\".format(i, dayn_increase))\n",
        "    daily_increase.append(dayn_increase)\n",
        "    i += 1"
      ],
      "execution_count": 38,
      "outputs": [
        {
          "output_type": "stream",
          "text": [
            "Day 0: 每日新增確診人數 1\n",
            "Day 1: 每日新增確診人數 0\n",
            "Day 2: 每日新增確診人數 2\n",
            "Day 3: 每日新增確診人數 0\n",
            "Day 4: 每日新增確診人數 1\n",
            "Day 5: 每日新增確診人數 1\n",
            "Day 6: 每日新增確診人數 3\n",
            "Day 7: 每日新增確診人數 0\n",
            "Day 8: 每日新增確診人數 1\n",
            "Day 9: 每日新增確診人數 1\n",
            "Day 10: 每日新增確診人數 0\n",
            "Day 11: 每日新增確診人數 0\n",
            "Day 12: 每日新增確診人數 0\n",
            "Day 13: 每日新增確診人數 1\n",
            "Day 14: 每日新增確診人數 0\n",
            "Day 15: 每日新增確診人數 5\n",
            "Day 16: 每日新增確診人數 0\n",
            "Day 17: 每日新增確診人數 1\n",
            "Day 18: 每日新增確診人數 1\n",
            "Day 19: 每日新增確診人數 0\n",
            "Day 20: 每日新增確診人數 0\n",
            "Day 21: 每日新增確診人數 0\n",
            "Day 22: 每日新增確診人數 0\n",
            "Day 23: 每日新增確診人數 0\n",
            "Day 24: 每日新增確診人數 0\n",
            "Day 25: 每日新增確診人數 2\n",
            "Day 26: 每日新增確診人數 2\n",
            "Day 27: 每日新增確診人數 0\n",
            "Day 28: 每日新增確診人數 1\n",
            "Day 29: 每日新增確診人數 1\n",
            "Day 30: 每日新增確診人數 2\n",
            "Day 31: 每日新增確診人數 0\n",
            "Day 32: 每日新增確診人數 2\n",
            "Day 33: 每日新增確診人數 2\n",
            "Day 34: 每日新增確診人數 1\n",
            "Day 35: 每日新增確診人數 1\n",
            "Day 36: 每日新增確診人數 0\n",
            "Day 37: 每日新增確診人數 2\n",
            "Day 38: 每日新增確診人數 5\n",
            "Day 39: 每日新增確診人數 1\n",
            "Day 40: 每日新增確診人數 1\n",
            "Day 41: 每日新增確診人數 1\n",
            "Day 42: 每日新增確診人數 0\n",
            "Day 43: 每日新增確診人數 2\n",
            "Day 44: 每日新增確診人數 1\n",
            "Day 45: 每日新增確診人數 0\n",
            "Day 46: 每日新增確診人數 0\n",
            "Day 47: 每日新增確診人數 0\n",
            "Day 48: 每日新增確診人數 2\n",
            "Day 49: 每日新增確診人數 1\n",
            "Day 50: 每日新增確診人數 1\n",
            "Day 51: 每日新增確診人數 1\n",
            "Day 52: 每日新增確診人數 3\n",
            "Day 53: 每日新增確診人數 6\n",
            "Day 54: 每日新增確診人數 8\n",
            "Day 55: 每日新增確診人數 10\n",
            "Day 56: 每日新增確診人數 23\n",
            "Day 57: 每日新增確診人數 8\n",
            "Day 58: 每日新增確診人數 27\n",
            "Day 59: 每日新增確診人數 18\n",
            "Day 60: 每日新增確診人數 16\n",
            "Day 61: 每日新增確診人數 26\n",
            "Day 62: 每日新增確診人數 20\n",
            "Day 63: 每日新增確診人數 20\n",
            "Day 64: 每日新增確診人數 17\n",
            "Day 65: 每日新增確診人數 15\n",
            "Day 66: 每日新增確診人數 16\n",
            "Day 67: 每日新增確診人數 15\n",
            "Day 68: 每日新增確診人數 8\n",
            "Day 69: 每日新增確診人數 16\n",
            "Day 70: 每日新增確診人數 7\n",
            "Day 71: 每日新增確診人數 10\n",
            "Day 72: 每日新增確診人數 9\n",
            "Day 73: 每日新增確診人數 7\n",
            "Day 74: 每日新增確診人數 8\n",
            "Day 75: 每日新增確診人數 10\n",
            "Day 76: 每日新增確診人數 3\n",
            "Day 77: 每日新增確診人數 3\n",
            "Day 78: 每日新增確診人數 1\n",
            "Day 79: 每日新增確診人數 2\n",
            "Day 80: 每日新增確診人數 3\n",
            "Day 81: 每日新增確診人數 3\n",
            "Day 82: 每日新增確診人數 5\n",
            "Day 83: 每日新增確診人數 0\n",
            "Day 84: 每日新增確診人數 2\n",
            "Day 85: 每日新增確診人數 0\n",
            "Day 86: 每日新增確診人數 0\n",
            "Day 87: 每日新增確診人數 3\n",
            "Day 88: 每日新增確診人數 22\n",
            "Day 89: 每日新增確診人數 2\n",
            "Day 90: 每日新增確診人數 3\n",
            "Day 91: 每日新增確診人數 1\n",
            "Day 92: 每日新增確診人數 1\n",
            "Day 93: 每日新增確診人數 1\n",
            "Day 94: 每日新增確診人數 1\n",
            "Day 95: 每日新增確診人數 0\n",
            "Day 96: 每日新增確診人數 0\n",
            "Day 97: 每日新增確診人數 0\n",
            "Day 98: 每日新增確診人數 0\n",
            "Day 99: 每日新增確診人數 0\n",
            "Day 100: 每日新增確診人數 0\n",
            "Day 101: 每日新增確診人數 3\n",
            "Day 102: 每日新增確診人數 4\n",
            "Day 103: 每日新增確診人數 2\n",
            "Day 104: 每日新增確診人數 0\n",
            "Day 105: 每日新增確診人數 1\n",
            "Day 106: 每日新增確診人數 1\n"
          ],
          "name": "stdout"
        }
      ]
    },
    {
      "cell_type": "code",
      "metadata": {
        "id": "HF2Ve2wzcKxj",
        "colab_type": "code",
        "colab": {}
      },
      "source": [
        ""
      ],
      "execution_count": 0,
      "outputs": []
    }
  ]
}