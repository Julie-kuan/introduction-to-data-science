{
  "nbformat": 4,
  "nbformat_minor": 0,
  "metadata": {
    "colab": {
      "name": "W4_A105260051_官廷樺.ipynb",
      "provenance": []
    },
    "kernelspec": {
      "name": "python3",
      "display_name": "Python 3"
    }
  },
  "cells": [
    {
      "cell_type": "markdown",
      "metadata": {
        "id": "KUIk1Pgva17N",
        "colab_type": "text"
      },
      "source": [
        "將目前的攝氏氣溫轉換為華氏氣溫\n",
        "Fahrenheit = Celsius × 9/5 + 32\n"
      ]
    },
    {
      "cell_type": "code",
      "metadata": {
        "id": "2_OBVLCxryNM",
        "colab_type": "code",
        "outputId": "d7bdc87b-fdc7-4c5a-d380-4eaacf13333b",
        "colab": {
          "base_uri": "https://localhost:8080/",
          "height": 34
        }
      },
      "source": [
        "current_celsiu = 28\n",
        "current_fahrenheit = current_celsiu * 9 / 5 + 32\n",
        "print(current_fahrenheit)"
      ],
      "execution_count": 0,
      "outputs": [
        {
          "output_type": "stream",
          "text": [
            "82.4\n"
          ],
          "name": "stdout"
        }
      ]
    },
    {
      "cell_type": "markdown",
      "metadata": {
        "id": "meWigIcMY66c",
        "colab_type": "text"
      },
      "source": [
        "將目前的華氏氣溫轉換為攝氏氣溫\n",
        "Celsius = (Fahrenheit − 32) × 5/9\n"
      ]
    },
    {
      "cell_type": "code",
      "metadata": {
        "id": "jqKHrL9_sgr0",
        "colab_type": "code",
        "outputId": "639b9fd5-6f53-4a5d-84cd-a0e5d208b0a2",
        "colab": {
          "base_uri": "https://localhost:8080/",
          "height": 34
        }
      },
      "source": [
        "current_fahrenheit = 82.4\n",
        "current_celsiu = (current_fahrenheit - 32) * 5 / 9\n",
        "print(current_celsiu)"
      ],
      "execution_count": 0,
      "outputs": [
        {
          "output_type": "stream",
          "text": [
            "28.000000000000004\n"
          ],
          "name": "stdout"
        }
      ]
    },
    {
      "cell_type": "markdown",
      "metadata": {
        "id": "BVcE7sLnbHd7",
        "colab_type": "text"
      },
      "source": [
        "計算俠客歐尼爾巔峰時期的 BMI 身體質量指\n",
        "數\n",
        "NBA 史上最偉大的中鋒之一「柴油引擎」俠客歐尼爾（Shaquille O’Neal）巔峰時期的身高為 216 公分、體重為 147 公斤。\n"
      ]
    },
    {
      "cell_type": "code",
      "metadata": {
        "id": "N37PKNVRwoBM",
        "colab_type": "code",
        "outputId": "c011bb80-453a-41b5-defc-d27a17a97771",
        "colab": {
          "base_uri": "https://localhost:8080/",
          "height": 34
        }
      },
      "source": [
        "shaq_height = 2.16\n",
        "shaq_weight = 147\n",
        "shaq_bmi = shaq_weight / shaq_height**2\n",
        "print(shaq_bmi)"
      ],
      "execution_count": 0,
      "outputs": [
        {
          "output_type": "stream",
          "text": [
            "31.507201646090532\n"
          ],
          "name": "stdout"
        }
      ]
    },
    {
      "cell_type": "markdown",
      "metadata": {
        "id": "ZWlFQjycbVvx",
        "colab_type": "text"
      },
      "source": [
        "隨堂練習：What did Ross say?\n",
        "Let's put aside the fact that you \"accidentally\" pick up my grandmother's ring."
      ]
    },
    {
      "cell_type": "code",
      "metadata": {
        "id": "4Po3UbOH3zkD",
        "colab_type": "code",
        "outputId": "64c84eae-6a10-4824-988e-6f3b7d180bf0",
        "colab": {
          "base_uri": "https://localhost:8080/",
          "height": 35
        }
      },
      "source": [
        "ross_said = \"\"\"Let's put aside the fact that you \"accidentally\" pick up my grandmother's ring.\"\"\"\n",
        "print(ross_said)"
      ],
      "execution_count": 1,
      "outputs": [
        {
          "output_type": "stream",
          "text": [
            "Let's put aside the fact that you \"accidentally\" pick up my grandmother's ring.\n"
          ],
          "name": "stdout"
        }
      ]
    },
    {
      "cell_type": "markdown",
      "metadata": {
        "id": "dASaomsNbtVJ",
        "colab_type": "text"
      },
      "source": [
        "隨堂練習：\n",
        "讓使用者輸入城市名稱與天氣，並印出「我在OOO，天氣OOO」"
      ]
    },
    {
      "cell_type": "code",
      "metadata": {
        "id": "pbLoADH2Bjna",
        "colab_type": "code",
        "outputId": "a0386e8a-6ec9-40f3-d48e-b1e5374f8e3b",
        "colab": {
          "base_uri": "https://localhost:8080/",
          "height": 52
        }
      },
      "source": [
        " city = input(\"請輸入你在的城市\")\n",
        " weather = input(\"請輸入你目前的天氣\")"
      ],
      "execution_count": 2,
      "outputs": [
        {
          "output_type": "stream",
          "text": [
            "請輸入你在的城市台北\n",
            "請輸入你目前的天氣21\n"
          ],
          "name": "stdout"
        }
      ]
    },
    {
      "cell_type": "code",
      "metadata": {
        "id": "lsj3YhyKD_Qk",
        "colab_type": "code",
        "outputId": "e6d0a25d-630c-4711-fedb-8b79abff753f",
        "colab": {
          "base_uri": "https://localhost:8080/",
          "height": 34
        }
      },
      "source": [
        "print(\"我在{}，天氣{}\".format(city, weather))"
      ],
      "execution_count": 0,
      "outputs": [
        {
          "output_type": "stream",
          "text": [
            "我在台北，天氣晴\n"
          ],
          "name": "stdout"
        }
      ]
    },
    {
      "cell_type": "markdown",
      "metadata": {
        "id": "JuzygGvHcBSI",
        "colab_type": "text"
      },
      "source": [
        "隨堂練習： 球員 BMI 與過重判斷\n",
        "\n",
        "以 input() 函數請使用者輸入球員姓名、身高與體重\n",
        "\n",
        "計算球員的 BMI 並且印出\n",
        "\n",
        "超過 30 代表過重，請印出判斷結果"
      ]
    },
    {
      "cell_type": "code",
      "metadata": {
        "id": "I_8Ja3Z6cUE0",
        "colab_type": "code",
        "colab": {
          "base_uri": "https://localhost:8080/",
          "height": 69
        },
        "outputId": "2c9d9e0e-ecc8-4be9-cf17-6974e8ccaa41"
      },
      "source": [
        "player_name = input(\"請輸入球員姓名\")\n",
        "height = input(\"請輸入球員的身高(cm)\")\n",
        "weight = input(\"請輸入球員的體重(kg)\")\n"
      ],
      "execution_count": 14,
      "outputs": [
        {
          "output_type": "stream",
          "text": [
            "請輸入球員姓名俠客歐尼爾\n",
            "請輸入球員的身高(cm)216\n",
            "請輸入球員的體重(kg)147\n"
          ],
          "name": "stdout"
        }
      ]
    },
    {
      "cell_type": "code",
      "metadata": {
        "id": "QwTVU3q3dqNT",
        "colab_type": "code",
        "colab": {
          "base_uri": "https://localhost:8080/",
          "height": 35
        },
        "outputId": "38b8e89f-3b5b-4c99-cc4b-9daa8f2d45be"
      },
      "source": [
        "height = int(height)\n",
        "weight = int(weight)\n",
        "player_bmi = weight / (height/100)**2\n",
        "print(player_bmi)"
      ],
      "execution_count": 15,
      "outputs": [
        {
          "output_type": "stream",
          "text": [
            "31.507201646090532\n"
          ],
          "name": "stdout"
        }
      ]
    },
    {
      "cell_type": "code",
      "metadata": {
        "id": "buo0_egle40M",
        "colab_type": "code",
        "colab": {
          "base_uri": "https://localhost:8080/",
          "height": 52
        },
        "outputId": "b9cc502a-e25a-483a-f2eb-be25260bca14"
      },
      "source": [
        "player_bmi = float(player_bmi) \n",
        "print(\"{}的身體質量指數為：{:.2f}\".format(player_name, player_bmi))\n",
        "print(\"{}是否過重：{}\".format(player_name, player_bmi > 30))"
      ],
      "execution_count": 10,
      "outputs": [
        {
          "output_type": "stream",
          "text": [
            "俠客歐尼爾的身體質量指數為：31.51\n",
            "俠客歐尼爾是否過重：True\n"
          ],
          "name": "stdout"
        }
      ]
    }
  ]
}