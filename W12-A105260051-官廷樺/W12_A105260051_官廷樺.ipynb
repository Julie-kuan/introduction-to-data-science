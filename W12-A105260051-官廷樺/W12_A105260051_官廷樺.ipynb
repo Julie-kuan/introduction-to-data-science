{
  "nbformat": 4,
  "nbformat_minor": 0,
  "metadata": {
    "colab": {
      "name": "W12-A105260051-官廷樺.ipynb",
      "provenance": []
    },
    "kernelspec": {
      "name": "python3",
      "display_name": "Python 3"
    }
  },
  "cells": [
    {
      "cell_type": "markdown",
      "metadata": {
        "id": "cxbXmVpMFL6e",
        "colab_type": "text"
      },
      "source": [
        "#隨堂練習:\n",
        "\n",
        "印出介於 x 到 y 之間的奇數（包含 x 與 y 假如它們是奇數）"
      ]
    },
    {
      "cell_type": "code",
      "metadata": {
        "id": "CaA0DYQmFN_d",
        "colab_type": "code",
        "colab": {
          "base_uri": "https://localhost:8080/",
          "height": 68
        },
        "outputId": "d3282175-8c82-4424-bff9-89693a4a7b8f"
      },
      "source": [
        "x = int(input(\"請輸入起始的正整數:\"))\n",
        "y = int(input(\"請輸入終止的正整數:\"))\n",
        "odds = []\n",
        "for i in range(x, y+1):\n",
        "    mod = i % 2\n",
        "    if mod == 1:\n",
        "        odds.append(i)\n",
        "print(odds)"
      ],
      "execution_count": 9,
      "outputs": [
        {
          "output_type": "stream",
          "text": [
            "請輸入起始的正整數:13\n",
            "請輸入終止的正整數:59\n",
            "[13, 15, 17, 19, 21, 23, 25, 27, 29, 31, 33, 35, 37, 39, 41, 43, 45, 47, 49, 51, 53, 55, 57, 59]\n"
          ],
          "name": "stdout"
        }
      ]
    },
    {
      "cell_type": "markdown",
      "metadata": {
        "id": "pSUDpXI3THVI",
        "colab_type": "text"
      },
      "source": [
        "#隨堂練習:\n",
        "\n",
        "承接上題，介於 x 到 y 之間的奇數有幾個（包含 x 與 y 假如它們是奇數）"
      ]
    },
    {
      "cell_type": "code",
      "metadata": {
        "id": "tbbx2W0RFmyV",
        "colab_type": "code",
        "colab": {
          "base_uri": "https://localhost:8080/",
          "height": 51
        },
        "outputId": "2c68d99c-6712-46ba-d3d2-07642e5abf6f"
      },
      "source": [
        "print(len(odds)) # 記數\n",
        "print(sum(odds)) # 加總"
      ],
      "execution_count": 10,
      "outputs": [
        {
          "output_type": "stream",
          "text": [
            "24\n",
            "864\n"
          ],
          "name": "stdout"
        }
      ]
    },
    {
      "cell_type": "markdown",
      "metadata": {
        "id": "2ltaNQmQbglC",
        "colab_type": "text"
      },
      "source": [
        "#隨堂練習:\n",
        "\n",
        "將復仇者聯盟系列電影評等⼤於 8 分的挑選出來"
      ]
    },
    {
      "cell_type": "code",
      "metadata": {
        "id": "3NLEp-8_OAE3",
        "colab_type": "code",
        "colab": {
          "base_uri": "https://localhost:8080/",
          "height": 34
        },
        "outputId": "c0e54ceb-adc5-4c75-9924-195382e1c2cd"
      },
      "source": [
        "avengers_ratings = [8.1, 7.3, 8.5, 8.8]\n",
        "recommendations = [i for i in avengers_ratings if i >= 8]\n",
        "print(recommendations)"
      ],
      "execution_count": 12,
      "outputs": [
        {
          "output_type": "stream",
          "text": [
            "[8.1, 8.5, 8.8]\n"
          ],
          "name": "stdout"
        }
      ]
    },
    {
      "cell_type": "code",
      "metadata": {
        "id": "TtTDgH_vbm-R",
        "colab_type": "code",
        "colab": {
          "base_uri": "https://localhost:8080/",
          "height": 102
        },
        "outputId": "dbca8b71-459a-45cb-b118-f9a7280c845a"
      },
      "source": [
        "weekdays = ['Monday','Tuesday', 'Wednesday', 'Thursday', 'Friday']\n",
        "for i, wd in enumerate(weekdays):\n",
        "    print(\"{}:星期{}\".format(wd, i+1))"
      ],
      "execution_count": 13,
      "outputs": [
        {
          "output_type": "stream",
          "text": [
            "Monday:星期1\n",
            "Tuesday:星期2\n",
            "Wednesday:星期3\n",
            "Thursday:星期4\n",
            "Friday:星期5\n"
          ],
          "name": "stdout"
        }
      ]
    },
    {
      "cell_type": "markdown",
      "metadata": {
        "id": "jXF2MitMc01S",
        "colab_type": "text"
      },
      "source": [
        "#隨堂練習:\n",
        "\n",
        "標記復仇者聯盟的上映順序\n",
        "\n",
        "第 1 部上映的復仇者聯盟是：The Avengers\n",
        "\n",
        "第 2 部上映的復仇者聯盟是：Avengers: Age of Ultron\n",
        "\n",
        "第 3 部上映的復仇者聯盟是：Avengers: Infinity War\n",
        "\n",
        "第 4 部上映的復仇者聯盟是：Avengers: Endgame"
      ]
    },
    {
      "cell_type": "code",
      "metadata": {
        "id": "EaAW3px-ccX1",
        "colab_type": "code",
        "colab": {
          "base_uri": "https://localhost:8080/",
          "height": 85
        },
        "outputId": "9070e7de-462f-420f-a521-1b5d4d6f7aee"
      },
      "source": [
        "avengers = [\"The Avengers\", \"Avengers: Age of Ultron\", \"Avengers: Infinity War\", \"Avengers: Endgame\"]\n",
        "for idx, movie in enumerate(avengers):\n",
        "    print(\"第{}部上映的復仇者聯盟電影:{}\".format(idx+1, movie))"
      ],
      "execution_count": 15,
      "outputs": [
        {
          "output_type": "stream",
          "text": [
            "第1部上映的復仇者聯盟電影:The Avengers\n",
            "第2部上映的復仇者聯盟電影:Avengers: Age of Ultron\n",
            "第3部上映的復仇者聯盟電影:Avengers: Infinity War\n",
            "第4部上映的復仇者聯盟電影:Avengers: Endgame\n"
          ],
          "name": "stdout"
        }
      ]
    },
    {
      "cell_type": "code",
      "metadata": {
        "id": "FTcaaVySeSA7",
        "colab_type": "code",
        "colab": {
          "base_uri": "https://localhost:8080/",
          "height": 85
        },
        "outputId": "631a966b-9cbf-4533-8bd7-19808521cbc9"
      },
      "source": [
        "years = [2012, 2015, 2018, 2019]\n",
        "for year, movue in zip(years, avengers):\n",
        "    print(\"{}上映的年份是{}\".format(movie, year))"
      ],
      "execution_count": 16,
      "outputs": [
        {
          "output_type": "stream",
          "text": [
            "Avengers: Endgame上映的年份是2012\n",
            "Avengers: Endgame上映的年份是2015\n",
            "Avengers: Endgame上映的年份是2018\n",
            "Avengers: Endgame上映的年份是2019\n"
          ],
          "name": "stdout"
        }
      ]
    }
  ]
}