{
  "nbformat": 4,
  "nbformat_minor": 0,
  "metadata": {
    "colab": {
      "name": "W3-A105260051-官廷樺",
      "provenance": []
    },
    "kernelspec": {
      "name": "python3",
      "display_name": "Python 3"
    }
  },
  "cells": [
    {
      "cell_type": "markdown",
      "metadata": {
        "id": "Ww4MnV2U2BDB",
        "colab_type": "text"
      },
      "source": [
        "隨堂練習： 將電影 https://www.imdb.com/title/tt4154796\n",
        "(https://www.imdb.com/title/tt4154796) 頁面中的三個資訊\n",
        "儲存為物件並且印出來\n",
        "片長（以分鐘為單位）\n",
        "評分\n",
        "片名"
      ]
    },
    {
      "cell_type": "code",
      "metadata": {
        "id": "Th1gWkt32Cw2",
        "colab_type": "code",
        "colab": {
          "base_uri": "https://localhost:8080/",
          "height": 69
        },
        "outputId": "21c57773-0f84-4cd5-f39b-baf6b3db3526"
      },
      "source": [
        "movie_title = \"Avengers: Endgame\"\n",
        "movie_length = 181\n",
        "movie_rating = 8.4\n",
        "\n",
        "print(movie_title)\n",
        "print(movie_length)\n",
        "print(movie_rating)"
      ],
      "execution_count": 1,
      "outputs": [
        {
          "output_type": "stream",
          "text": [
            "Avengers: Endgame\n",
            "181\n",
            "8.4\n"
          ],
          "name": "stdout"
        }
      ]
    },
    {
      "cell_type": "markdown",
      "metadata": {
        "id": "SHAO5e5E2Luv",
        "colab_type": "text"
      },
      "source": [
        "隨堂練習： 使用 type() 函數將這三個物件的類別印出來"
      ]
    },
    {
      "cell_type": "code",
      "metadata": {
        "id": "rmJPIwDn2On9",
        "colab_type": "code",
        "colab": {
          "base_uri": "https://localhost:8080/",
          "height": 69
        },
        "outputId": "157e6106-73a1-4251-9a2a-dd94423b5e05"
      },
      "source": [
        "print(type(movie_title))\n",
        "print(type(movie_length))\n",
        "print(type(movie_rating))"
      ],
      "execution_count": 2,
      "outputs": [
        {
          "output_type": "stream",
          "text": [
            "<class 'str'>\n",
            "<class 'int'>\n",
            "<class 'float'>\n"
          ],
          "name": "stdout"
        }
      ]
    }
  ]
}