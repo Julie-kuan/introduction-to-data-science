{
 "cells": [
  {
   "cell_type": "markdown",
   "metadata": {},
   "source": [
    "隨堂練習： 將電影 https://www.imdb.com/title/tt4154796\n",
    "(https://www.imdb.com/title/tt4154796) 頁面中的三個資訊\n",
    "儲存為物件並且印出來\n",
    "片長（以分鐘為單位）\n",
    "評分\n",
    "片名"
   ]
  },
  {
   "cell_type": "code",
   "execution_count": 3,
   "metadata": {},
   "outputs": [
    {
     "name": "stdout",
     "output_type": "stream",
     "text": [
      "Avengers: Endgame\n",
      "181\n",
      "8.4\n"
     ]
    }
   ],
   "source": [
    "movie_title = \"Avengers: Endgame\"\n",
    "movie_length = 181\n",
    "movie_rating = 8.4\n",
    "\n",
    "print(movie_title)\n",
    "print(movie_length)\n",
    "print(movie_rating)"
   ]
  },
  {
   "cell_type": "markdown",
   "metadata": {},
   "source": [
    "隨堂練習： 使用 type() 函數將這三個物件的類別印出來"
   ]
  },
  {
   "cell_type": "code",
   "execution_count": 4,
   "metadata": {},
   "outputs": [
    {
     "name": "stdout",
     "output_type": "stream",
     "text": [
      "<class 'str'>\n",
      "<class 'int'>\n",
      "<class 'float'>\n"
     ]
    }
   ],
   "source": [
    "print(type(movie_title))\n",
    "print(type(movie_length))\n",
    "print(type(movie_rating))"
   ]
  }
 ],
 "metadata": {
  "kernelspec": {
   "display_name": "Python 3",
   "language": "python",
   "name": "python3"
  },
  "language_info": {
   "codemirror_mode": {
    "name": "ipython",
    "version": 3
   },
   "file_extension": ".py",
   "mimetype": "text/x-python",
   "name": "python",
   "nbconvert_exporter": "python",
   "pygments_lexer": "ipython3",
   "version": "3.7.6"
  }
 },
 "nbformat": 4,
 "nbformat_minor": 4
}
